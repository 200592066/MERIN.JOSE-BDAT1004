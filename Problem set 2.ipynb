{
 "cells": [
  {
   "cell_type": "code",
   "execution_count": 2,
   "id": "e5acc071",
   "metadata": {},
   "outputs": [],
   "source": [
    "#  PROBLEM SET 2"
   ]
  },
  {
   "cell_type": "code",
   "execution_count": 8,
   "id": "bee48759",
   "metadata": {},
   "outputs": [],
   "source": [
    "# question 1\n",
    "\n",
    "a = 0\n",
    "\n",
    "def b():\n",
    "    global a\n",
    "    a = c(a)\n",
    "\n",
    "def c(a):\n",
    "    return a + 2\n",
    "\n"
   ]
  },
  {
   "cell_type": "code",
   "execution_count": null,
   "id": "90643906",
   "metadata": {},
   "outputs": [],
   "source": [
    "1) a= 0 -- >initializes the global variable 'a' with the value 0\n",
    "2) def b() --> defines a function 'b()'.\n",
    "3) global a --> declares that the variable 'a' inside the function b() refers to the global variable 'a'\n",
    "4) a=(a)--> calls the function c(a) with the current value of a (now 0) and assigns the result back to the global variable 'a'\n",
    "5) def c(a)--> defines a function c(a) that takes an argument 'a' and returns 'a+2'.\n",
    "\n",
    "6)>>>b()--> which calls c(a) with current value of a as 0 and return value as 0+2, so keep value of global variable 'a' as 2.\n",
    "--> then again execute it comes 2+2=4;\n",
    "-->then again execute 'a' becomes 4 and a+2=4+2=6."
   ]
  },
  {
   "cell_type": "code",
   "execution_count": 9,
   "id": "e1944410",
   "metadata": {},
   "outputs": [
    {
     "name": "stdout",
     "output_type": "stream",
     "text": [
      "File midterm.py not found.\n",
      "File idterm.py not found.\n"
     ]
    }
   ],
   "source": [
    "# question 2\n",
    "\n",
    "\n",
    "def fileLength(filename):\n",
    "    try:\n",
    "        infile = open(filename, 'r')\n",
    "        content = infile.read()\n",
    "        infile.close()\n",
    "        length = len(content)\n",
    "        print(length)\n",
    "    except FileNotFoundError:\n",
    "        print(f\"File {filename} not found.\")\n",
    "    except Exception as e:\n",
    "        print(f\"An error occurred: {e}\")\n",
    "\n",
    "# Test cases\n",
    "fileLength('midterm.py') \n",
    "fileLength('idterm.py')"
   ]
  },
  {
   "cell_type": "code",
   "execution_count": 16,
   "id": "dd897dd5",
   "metadata": {},
   "outputs": [
    {
     "name": "stdout",
     "output_type": "stream",
     "text": [
      "['doll', 'firetruck', 'kitten']\n",
      "I am a Kangaroo located at coordinates (0,0)\n",
      "['doll', 'firetruck', 'kitten']\n",
      "I am a Kangaroo located at coordinates (3,0)\n"
     ]
    }
   ],
   "source": [
    "# question 3\n",
    "\n",
    "class Marsupial:\n",
    "    def __init__(self):\n",
    "        self.pouch_contents_list = []\n",
    "\n",
    "    def put_in_pouch(self, item):\n",
    "        self.pouch_contents_list.append(item)\n",
    "\n",
    "    def pouch_contents(self):\n",
    "        return self.pouch_contents_list\n",
    "\n",
    "\n",
    "class Kangaroo(Marsupial):\n",
    "    def __init__(self, x, y):\n",
    "        super().__init__()\n",
    "        self.x = x\n",
    "        self.y = y\n",
    "\n",
    "    def jump(self, dx, dy):\n",
    "        self.x += dx\n",
    "        self.y += dy\n",
    "\n",
    "    def __str__(self):\n",
    "        return f\"I am a Kangaroo located at coordinates ({self.x},{self.y})\"\n",
    "\n",
    "m = Marsupial()\n",
    "m.put_in_pouch('doll')\n",
    "m.put_in_pouch('firetruck')\n",
    "m.put_in_pouch('kitten')\n",
    "print(m.pouch_contents())\n",
    "\n",
    "k = Kangaroo(0, 0)\n",
    "print(k)  # Output: I am a Kangaroo located at coordinates (0,0)\n",
    "k.put_in_pouch('doll')\n",
    "k.put_in_pouch('firetruck')\n",
    "k.put_in_pouch('kitten')\n",
    "print(k.pouch_contents())  # Output: ['doll', 'firetruck', 'kitten']\n",
    "\n",
    "k.jump(1, 0)\n",
    "k.jump(1, 0)\n",
    "k.jump(1, 0)\n",
    "print(k)  # Output: I am a Kangaroo located at coordinates (3,0)\n"
   ]
  },
  {
   "cell_type": "code",
   "execution_count": 15,
   "id": "1972a5ea",
   "metadata": {},
   "outputs": [
    {
     "name": "stdout",
     "output_type": "stream",
     "text": [
      "1\n",
      "10\n",
      "5\n",
      "16\n",
      "8\n",
      "4\n",
      "2\n",
      "1\n"
     ]
    }
   ],
   "source": [
    "# question 4\n",
    "\n",
    "def collatz(x):\n",
    "    if x == 1:\n",
    "        print(1)\n",
    "    else:\n",
    "        print(x)\n",
    "        if x % 2 == 0:\n",
    "            collatz(x // 2)\n",
    "        else:\n",
    "            collatz(3 * x + 1)\n",
    "collatz(1)\n",
    "collatz(10)"
   ]
  },
  {
   "cell_type": "code",
   "execution_count": 17,
   "id": "1a479ae1",
   "metadata": {},
   "outputs": [
    {
     "name": "stdout",
     "output_type": "stream",
     "text": [
      "0\n",
      "1\n",
      "11\n",
      "1001"
     ]
    }
   ],
   "source": [
    "# question 5\n",
    "\n",
    "def binary(n):\n",
    "    if n > 1:\n",
    "        binary(n // 2)  # Recursively call with the integer division by 2\n",
    "    print(n % 2, end=\"\")\n",
    "\n",
    "# Test the function\n",
    "binary(0)  # Output: 0\n",
    "print()  # Print a newline to separate results\n",
    "binary(1)  # Output: 1\n",
    "print()\n",
    "binary(3)  # Output: 11\n",
    "print()\n",
    "binary(9)  # Output: 1001\n"
   ]
  },
  {
   "cell_type": "code",
   "execution_count": 26,
   "id": "ad62d202",
   "metadata": {},
   "outputs": [],
   "source": [
    "#question 6\n",
    "\n",
    "from html.parser import HTMLParser\n",
    "\n",
    "class HeadingParser(HTMLParser):\n",
    "    def __init__(self):\n",
    "        super().__init__()\n",
    "        self.in_heading = False\n",
    "        self.indentation = 0\n",
    "\n",
    "    def handle_starttag(self, tag, attrs):\n",
    "        if tag.startswith(\"h\") and tag[1:].isdigit():\n",
    "            self.in_heading = True\n",
    "            self.indentation = int(tag[1:]) - 1\n",
    "\n",
    "    def handle_endtag(self, tag):\n",
    "        if tag.startswith(\"h\") and tag[1:].isdigit():\n",
    "            self.in_heading = False\n",
    "\n",
    "    def handle_data(self, data):\n",
    "        if self.in_heading:\n",
    "            print(\"    \" * self.indentation + data.strip())\n",
    "\n",
    "# Test \n",
    "with open('w3c.html', 'r', encoding='utf-8') as infile:\n",
    "    content = infile.read()\n",
    "\n",
    "hp = HeadingParser()\n",
    "hp.feed(content)\n"
   ]
  },
  {
   "cell_type": "code",
   "execution_count": 25,
   "id": "5aedfbc3",
   "metadata": {},
   "outputs": [],
   "source": [
    "# question 7\n",
    "import requests\n",
    "from bs4 import BeautifulSoup\n",
    "\n",
    "def webdir(url, depth, indent):\n",
    "    if depth == 0:\n",
    "        return\n",
    "    \n",
    "    try:\n",
    "        response = requests.get(url)\n",
    "        if response.status_code == 200:\n",
    "            soup = BeautifulSoup(response.text, 'html.parser')\n",
    "            print(' ' * indent + url)\n",
    "\n",
    "            for link in soup.find_all('a'):\n",
    "                href = linkget('href')\n",
    "                if href.startswith('http') or href.startswith('https'):\n",
    "                    webdir(href, depth - 1, indent + 2)\n",
    "    except requests.exceptions.RequestException:\n",
    "        pass\n",
    "\n",
    "\n",
    "webdir('http://web.simmons.edu/~grovesd/comm244/notes/week3/html-test-page.html', 2, 0)\n",
    "\n"
   ]
  },
  {
   "cell_type": "code",
   "execution_count": 23,
   "id": "dc9f2112",
   "metadata": {},
   "outputs": [],
   "source": [
    "# question 8\n",
    "\n",
    "a) SELECT Temperature FROM climate;\n",
    "\n",
    "b)SELECT DISTINCT City FROM climate;\n",
    "\n",
    "c)SELECT * FROM climate WHERE Country = 'India';\n",
    "\n",
    "d)SELECT * FROM climate WHERE Season = 'Fall';\n",
    "\n",
    "e)SELECT City, Country, Season FROM climate GROUP BY City, Country, Season HAVING AVG(Rainfall) BETWEEN 200 AND 400;\n",
    "\n",
    "f)SELECT City, Country FROM climate WHERE Season = 'Fall' GROUP BY City, Country HAVING AVG(Temperature) > 20 ORDER BY AVG(Temperature) ASC;\n",
    "\n",
    "g)SELECT SUM(Rainfall) AS TotalRainfall FROM climate WHERE City = 'Cairo';\n",
    "\n",
    "h)SELECT Season, SUM(Rainfall) AS TotalRainfall FROM climate GROUP BY Season;"
   ]
  },
  {
   "cell_type": "code",
   "execution_count": 21,
   "id": "9c8c7c0d",
   "metadata": {},
   "outputs": [
    {
     "name": "stdout",
     "output_type": "stream",
     "text": [
      "['THE', 'QUICK', 'BROWN', 'FOX', 'JUMPS', 'OVER', 'THE', 'LAZY', 'DOG']\n",
      "['the', 'quick', 'brown', 'fox', 'jumps', 'over', 'the', 'lazy', 'dog']\n",
      "[3, 5, 5, 3, 5, 4, 3, 4, 3]\n",
      "[['THE', 'the', 3], ['QUICK', 'quick', 5], ['BROWN', 'brown', 5], ['FOX', 'fox', 3], ['JUMPS', 'jumps', 5], ['OVER', 'over', 4], ['THE', 'the', 3], ['LAZY', 'lazy', 4], ['DOG', 'dog', 3]]\n",
      "['quick', 'brown', 'jumps', 'over', 'lazy']\n"
     ]
    }
   ],
   "source": [
    "#9 question\n",
    "\n",
    "words = ['The', 'quick', 'brown', 'fox', 'jumps', 'over', 'the', 'lazy', 'dog']\n",
    "\n",
    "uppercase_words = [word.upper() for word in words]\n",
    "lowercase_words = [word.lower() for word in words]\n",
    "word_lengths = [len(word) for word in words]\n",
    "word_info = [[word.upper(), word.lower(), len(word)] for word in words]\n",
    "long_words = [word for word in words if len(word) >= 4]\n",
    "\n",
    "print(uppercase_words)  # a)\n",
    "print(lowercase_words)  # b)\n",
    "print(word_lengths)  # c)\n",
    "print(word_info)  # d)\n",
    "print(long_words)  # e)"
   ]
  }
 ],
 "metadata": {
  "kernelspec": {
   "display_name": "Python 3 (ipykernel)",
   "language": "python",
   "name": "python3"
  },
  "language_info": {
   "codemirror_mode": {
    "name": "ipython",
    "version": 3
   },
   "file_extension": ".py",
   "mimetype": "text/x-python",
   "name": "python",
   "nbconvert_exporter": "python",
   "pygments_lexer": "ipython3",
   "version": "3.11.5"
  }
 },
 "nbformat": 4,
 "nbformat_minor": 5
}
